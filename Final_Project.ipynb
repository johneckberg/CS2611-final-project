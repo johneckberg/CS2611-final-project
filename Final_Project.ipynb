{
 "cells": [
  {
   "cell_type": "code",
   "execution_count": null,
   "id": "92fa303f",
   "metadata": {},
   "outputs": [],
   "source": [
    "# libs needed that aren't on the huggingface container \n",
    "!pip install datasets --user\n",
    "!pip install evaluate --user\n",
    "!pip install nltk"
   ]
  },
  {
   "cell_type": "code",
   "execution_count": null,
   "id": "ed97268e",
   "metadata": {},
   "outputs": [],
   "source": [
    "import csv\n",
    "import pandas as pd\n",
    "from transformers import BertTokenizerFast, TrainingArguments, Trainer, BertForSequenceClassification, \\\n",
    "   DataCollatorWithPadding\n",
    "from datasets import Dataset, load_dataset, DatasetDict\n",
    "import csv\n",
    "import pandas as pd\n",
    "from sklearn import model_selection\n",
    "import torch\n",
    "import evaluate\n",
    "import numpy as np\n",
    "import string \n",
    "import re\n",
    "from sklearn.feature_extraction.text import TfidfVectorizer\n",
    "import nltk\n",
    "from sklearn.ensemble import RandomForestClassifier\n",
    "from sklearn.model_selection import GridSearchCV\n",
    "\n",
    "nltk.download('stopwords')\n",
    "nltk.download('wordnet')"
   ]
  },
  {
   "cell_type": "code",
   "execution_count": null,
   "id": "1d8834dc",
   "metadata": {},
   "outputs": [],
   "source": [
    "with open('Tweets.csv', mode='r') as file:\n",
    "    df = pd.read_csv(file, header=0)\n",
    "    df = df.drop(columns=['textID', 'selected_text'], axis=1)\n",
    "    df = df.rename(columns={\"text\": \"texts\", \"sentiment\": \"label\"})\n",
    "    df = df.dropna()\n",
    "\n",
    "df['label'] = df['label'].replace({\"neutral\":1, \"negative\":0, \"positive\":2})"
   ]
  },
  {
   "cell_type": "markdown",
   "id": "438dfc79",
   "metadata": {},
   "source": [
    "# Model 1"
   ]
  },
  {
   "cell_type": "code",
   "execution_count": null,
   "id": "0851994c",
   "metadata": {},
   "outputs": [],
   "source": [
    "dataset = Dataset.from_pandas(df)\n",
    "train_test_valid = dataset.train_test_split(test_size=0.2)\n",
    "# this is apparently the best way to create a validation set\n",
    "# shuffle defaults to true\n",
    "test_valid = train_test_valid['test'].train_test_split(test_size=0.8)\n",
    "dataset = DatasetDict({\n",
    "    'train': train_test_valid['train'],\n",
    "    'test': test_valid['test'],\n",
    "    'valid': test_valid['train']})\n",
    "print(dataset)\n",
    "print(dataset[\"train\"][0])"
   ]
  },
  {
   "cell_type": "code",
   "execution_count": null,
   "id": "109fc043",
   "metadata": {},
   "outputs": [],
   "source": [
    "from sklearn.metrics import confusion_matrix, ConfusionMatrixDisplay\n",
    "import matplotlib.pyplot as plt\n",
    "from sklearn.metrics import confusion_matrix\n",
    "import seaborn as sns\n",
    "\n",
    "def tokenize_function(example):\n",
    "    \"\"\"\n",
    "    Tokenizes input embeddings using model tokenizer\"\"\"\n",
    "    return tokenizer(example[\"texts\"], truncation=True)\n",
    "\n",
    "metric1 = evaluate.load(\"precision\")\n",
    "metric2 = evaluate.load(\"recall\")\n",
    "    \n",
    "def compute_metrics(eval_preds):\n",
    "    \"\"\"\n",
    "    Computes eval metrics\"\"\"\n",
    "    \n",
    "    logits, labels = eval_preds\n",
    "    predictions = np.argmax(logits, axis=-1)\n",
    "    precision = metric1.compute(predictions=predictions, references=labels, average=\"weighted\")\n",
    "    recall = metric2.compute(predictions=predictions, references=labels, average=\"weighted\")\n",
    "    \n",
    "\n",
    "    cm = confusion_matrix(predictions, labels)\n",
    "    cmn = cm.astype('float') / cm.sum(axis=1)[:, np.newaxis]\n",
    "    fig, ax = plt.subplots(figsize=(10,10))\n",
    "    sns.heatmap(cmn, annot=True, fmt='.2f', xticklabels=[\"negative\", \"neutral\", \"positive\"], yticklabels=[\"negative\", \"neutral\", \"positive\"])\n",
    "    plt.ylabel('Actual')\n",
    "    plt.xlabel('Predicted')\n",
    "    plt.show(block=False)\n",
    "    return {\"precision\": precision, \"recall\": recall}\n",
    "\n",
    "# tokenize input sequences to subwords\n",
    "tokenizer = BertTokenizerFast.from_pretrained(\"bert-base-uncased\")\n",
    "tokenized_tweets = dataset.map(tokenize_function, batched=True)\n",
    "\n",
    "\n",
    "# for batching\n",
    "data_collator = DataCollatorWithPadding(tokenizer=tokenizer)"
   ]
  },
  {
   "cell_type": "code",
   "execution_count": null,
   "id": "cff7686e",
   "metadata": {},
   "outputs": [],
   "source": [
    "# to load from checkpoint for eval; trainer class takes care of both training and eval.\n",
    "# pretty much just a general model wrapper\n",
    "model = BertForSequenceClassification.from_pretrained('results/')\n",
    "\n",
    "args = TrainingArguments(\n",
    "    output_dir=\"./results\",\n",
    "    per_device_eval_batch_size=30\n",
    ")\n",
    "\n",
    "trainer = Trainer(\n",
    "    model=model,\n",
    "    args=args,\n",
    "    tokenizer=tokenizer,\n",
    "    eval_dataset=tokenized_tweets[\"test\"],\n",
    "    data_collator=data_collator,\n",
    "    compute_metrics=compute_metrics\n",
    ")\n",
    "\n",
    "# speeds up testing by turning off backprop objects\n",
    "with torch.no_grad():\n",
    "    eval_results = trainer.evaluate()\n",
    "print(eval_results)"
   ]
  },
  {
   "cell_type": "code",
   "execution_count": null,
   "id": "925e6cca",
   "metadata": {},
   "outputs": [],
   "source": [
    "# to train model; see https://huggingface.co/docs/transformers/model_doc/bert#transformers.BertForSequenceClassification\n",
    "import torch\n",
    "print(tokenized_tweets)\n",
    "print(torch.cuda.is_available())\n",
    "device = torch.device(\"cuda\" if torch.cuda.is_available() else \"cpu\")\n",
    "print(device)\n",
    "print(torch.cuda.device_count())\n",
    "\n",
    "# init model:\n",
    "# takes in a string and pulls the model from huggingface\n",
    "model = BertForSequenceClassification.from_pretrained(\"bert-base-uncased\", num_labels=3)\n",
    "\n",
    "\n",
    "args = TrainingArguments(\n",
    "    output_dir=\"./results\",\n",
    "    learning_rate=2e-5,\n",
    "    per_device_train_batch_size=8,\n",
    "    per_device_eval_batch_size=8,\n",
    "    num_train_epochs=3,\n",
    "    weight_decay=0.01)\n",
    "\n",
    "# train\n",
    "trainer = Trainer(\n",
    "    model=model,\n",
    "    args=args,\n",
    "    train_dataset=tokenized_tweets[\"train\"],\n",
    "    eval_dataset=tokenized_tweets[\"valid\"],\n",
    "    tokenizer=tokenizer,\n",
    "    data_collator=data_collator,\n",
    "    compute_metrics=compute_metrics\n",
    ")\n",
    "trainer.train()\n",
    "trainer.save_model()"
   ]
  },
  {
   "cell_type": "code",
   "execution_count": null,
   "id": "3ea87265",
   "metadata": {},
   "outputs": [],
   "source": [
    "with torch.no_grad():\n",
    "    eval_results = trainer.evaluate(tokenized_tweets[\"test\"])\n",
    "print(eval_results)"
   ]
  },
  {
   "cell_type": "markdown",
   "id": "03e3cf9e",
   "metadata": {},
   "source": [
    "# Model 2"
   ]
  },
  {
   "cell_type": "code",
   "execution_count": null,
   "id": "d60d1cf6",
   "metadata": {},
   "outputs": [],
   "source": [
    "def remove_punct(text):\n",
    "    text_no_punct = \"\".join([char for char in text if char not in string.punctuation])\n",
    "    return text_no_punct\n",
    "\n",
    "def tokenize(text):\n",
    "    tokens = re.split('\\W+', text)\n",
    "    return tokens\n",
    "\n",
    "def remove_stopwords(tokenized_text):\n",
    "    stopwords = nltk.corpus.stopwords.words('english')\n",
    "    text = [word for word in tokenized_text if word not in stopwords]\n",
    "    return text\n",
    "\n",
    "def lemmatize(tokenized_text):\n",
    "    wn = nltk.WordNetLemmatizer()\n",
    "    text = [wn.lemmatize(word) for word in tokenized_text]\n",
    "    return text"
   ]
  },
  {
   "cell_type": "code",
   "execution_count": null,
   "id": "39c8834f",
   "metadata": {},
   "outputs": [],
   "source": [
    "df['texts'] = df['texts'].apply(lambda text: remove_punct(text))\n",
    "df['texts'] = df['texts'].apply(lambda text: tokenize(text.lower()))\n",
    "df['texts'] = df['texts'].apply(lambda text: remove_stopwords(text))\n",
    "df['texts'] = df['texts'].apply(lambda text: lemmatize(text))\n",
    "df['texts'] = df['texts'].apply(lambda text: ' '.join(text))"
   ]
  },
  {
   "cell_type": "code",
   "execution_count": null,
   "id": "872d1c34",
   "metadata": {},
   "outputs": [],
   "source": [
    "tfidf_vect = TfidfVectorizer(analyzer='word')\n",
    "X_tfidf = tfidf_vect.fit_transform(df['texts'])\n",
    "\n",
    "rf = RandomForestClassifier()\n",
    "param = {'n_estimators': [10, 150, 300], 'max_depth': [30, 60, 90, None]}\n",
    "\n",
    "gs = GridSearchCV(rf, param, cv=5, n_jobs=-1)\n",
    "gs_fit = gs.fit(X_tfidf, df['label'])\n",
    "pd.DataFrame(gs_fit.cv_results_).sort_values('mean_test_score', ascending=False).head()"
   ]
  },
  {
   "cell_type": "code",
   "execution_count": null,
   "id": "7c33ca47",
   "metadata": {},
   "outputs": [],
   "source": []
  }
 ],
 "metadata": {
  "kernelspec": {
   "display_name": "Python 3 (ipykernel)",
   "language": "python",
   "name": "python3"
  },
  "language_info": {
   "codemirror_mode": {
    "name": "ipython",
    "version": 3
   },
   "file_extension": ".py",
   "mimetype": "text/x-python",
   "name": "python",
   "nbconvert_exporter": "python",
   "pygments_lexer": "ipython3",
   "version": "3.11.4"
  }
 },
 "nbformat": 4,
 "nbformat_minor": 5
}
